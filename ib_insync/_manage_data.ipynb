{
 "cells": [
  {
   "cell_type": "code",
   "execution_count": 1,
   "id": "406695a8-947f-42ca-a57f-33a4e3614023",
   "metadata": {},
   "outputs": [
    {
     "data": {
      "text/plain": [
       "<IB connected to 20.230.202.72:7497 clientId=50033>"
      ]
     },
     "execution_count": 1,
     "metadata": {},
     "output_type": "execute_result"
    }
   ],
   "source": [
    "from ib_insync import *\n",
    "util.startLoop()\n",
    "\n",
    "ib = IB()\n",
    "ib.connect('20.230.202.72', 7497, clientId=50033)"
   ]
  },
  {
   "cell_type": "code",
   "execution_count": 2,
   "id": "d3a9fd19-1003-4ecd-8761-5b8f069ca1a6",
   "metadata": {},
   "outputs": [],
   "source": [
    "from _lib import upsert_contract"
   ]
  },
  {
   "cell_type": "code",
   "execution_count": 15,
   "id": "2085166e-4d26-4f86-9c8c-bdb84c7849b6",
   "metadata": {},
   "outputs": [
    {
     "name": "stdout",
     "output_type": "stream",
     "text": [
      "Forex('EURUSD', conId=12087792, exchange='IDEALPRO', localSymbol='EUR.USD', tradingClass='EUR.USD')\n",
      "Forex('USDJPY', conId=15016059, exchange='IDEALPRO', localSymbol='USD.JPY', tradingClass='USD.JPY')\n",
      "Forex('GBPUSD', conId=12087797, exchange='IDEALPRO', localSymbol='GBP.USD', tradingClass='GBP.USD')\n",
      "Forex('AUDUSD', conId=14433401, exchange='IDEALPRO', localSymbol='AUD.USD', tradingClass='AUD.USD')\n",
      "Forex('USDCAD', conId=15016062, exchange='IDEALPRO', localSymbol='USD.CAD', tradingClass='USD.CAD')\n",
      "Forex('USDCHF', conId=12087820, exchange='IDEALPRO', localSymbol='USD.CHF', tradingClass='USD.CHF')\n",
      "Forex('NZDUSD', conId=39453441, exchange='IDEALPRO', localSymbol='NZD.USD', tradingClass='NZD.USD')\n",
      "Forex('EURJPY', conId=14321016, exchange='IDEALPRO', localSymbol='EUR.JPY', tradingClass='EUR.JPY')\n"
     ]
    },
    {
     "name": "stderr",
     "output_type": "stream",
     "text": [
      "Peer closed connection.\n"
     ]
    }
   ],
   "source": [
    "forex_pairs = (\"EURUSD\", \"USDJPY\", \"GBPUSD\", \"AUDUSD\", \"USDCAD\", \"USDCHF\", \"NZDUSD\", \"EURJPY\")\n",
    "\n",
    "for pair in forex_pairs:\n",
    "    contract = Forex(pair)\n",
    "    [contract] = ib.qualifyContracts(contract)\n",
    "    print(contract)\n",
    "    upsert_contract(symbol=pair, local_symbol=contract.localSymbol, contract_id=contract.conId, security_type=\"CASH\", trading_class=contract.tradingClass, enabled=True)"
   ]
  },
  {
   "cell_type": "code",
   "execution_count": null,
   "id": "f137e766-063d-4399-9aca-b292e6f9938f",
   "metadata": {},
   "outputs": [],
   "source": []
  }
 ],
 "metadata": {
  "kernelspec": {
   "display_name": "Python 3 (ipykernel)",
   "language": "python",
   "name": "python3"
  },
  "language_info": {
   "codemirror_mode": {
    "name": "ipython",
    "version": 3
   },
   "file_extension": ".py",
   "mimetype": "text/x-python",
   "name": "python",
   "nbconvert_exporter": "python",
   "pygments_lexer": "ipython3",
   "version": "3.10.9"
  }
 },
 "nbformat": 4,
 "nbformat_minor": 5
}
