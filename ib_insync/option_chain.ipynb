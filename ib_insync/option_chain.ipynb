{
 "cells": [
  {
   "cell_type": "markdown",
   "metadata": {},
   "source": [
    "Option chains\n",
    "======="
   ]
  },
  {
   "cell_type": "code",
   "execution_count": 1,
   "metadata": {
    "ExecuteTime": {
     "end_time": "2023-07-07T18:51:06.238951700Z",
     "start_time": "2023-07-07T18:51:06.233320600Z"
    },
    "scrolled": true
   },
   "outputs": [
    {
     "data": {
      "text/plain": [
       "<IB connected to 20.230.202.72:7497 clientId=550057>"
      ]
     },
     "execution_count": 1,
     "metadata": {},
     "output_type": "execute_result"
    }
   ],
   "source": [
    "from ib_insync import *\n",
    "util.startLoop()\n",
    "\n",
    "ib = IB()\n",
    "ib.connect('20.230.202.72', 7497, clientId=550057)"
   ]
  },
  {
   "cell_type": "markdown",
   "metadata": {},
   "source": [
    "Suppose we want to find the options on the SPX, with the following conditions:\n",
    "\n",
    "* Use the next three monthly expiries;\n",
    "* Use strike prices within +- 20 dollar of the current SPX value;\n",
    "* Use strike prices that are a multitude of 5 dollar."
   ]
  },
  {
   "cell_type": "markdown",
   "metadata": {},
   "source": [
    "To get the current market value, first create a contract for the underlyer (the S&P 500 index):"
   ]
  },
  {
   "cell_type": "code",
   "execution_count": 2,
   "metadata": {},
   "outputs": [
    {
     "data": {
      "text/plain": [
       "[Future(conId=568549928, symbol='NQ', lastTradeDateOrContractMonth='20230915', multiplier='20', exchange='CME', currency='USD', localSymbol='NQU3', tradingClass='NQ')]"
      ]
     },
     "execution_count": 2,
     "metadata": {},
     "output_type": "execute_result"
    }
   ],
   "source": [
    "# spx = Index('SPX', 'CBOE')\n",
    "contract = Future(symbol=\"NQ\", localSymbol=\"NQU3\", exchange=\"CME\")\n",
    "ib.qualifyContracts(contract)"
   ]
  },
  {
   "cell_type": "markdown",
   "metadata": {},
   "source": [
    "To avoid issues with market data permissions, we'll use delayed data:"
   ]
  },
  {
   "cell_type": "code",
   "execution_count": 3,
   "metadata": {},
   "outputs": [],
   "source": [
    "ib.reqMarketDataType(1)"
   ]
  },
  {
   "cell_type": "markdown",
   "metadata": {},
   "source": [
    "Then get the ticker. Requesting a ticker can take up to 11 seconds."
   ]
  },
  {
   "cell_type": "code",
   "execution_count": 4,
   "metadata": {},
   "outputs": [
    {
     "data": {
      "text/plain": [
       "Ticker(contract=Future(conId=568549928, symbol='NQ', lastTradeDateOrContractMonth='20230915', multiplier='20', exchange='CME', currency='USD', localSymbol='NQU3', tradingClass='NQ'), time=datetime.datetime(2023, 7, 19, 3, 40, 46, 898203, tzinfo=datetime.timezone.utc), minTick=0.25, bid=15959.75, bidSize=1.0, ask=15960.0, askSize=5.0, last=15959.75, lastSize=4.0, volume=15278.0, open=15949.25, high=15967.75, low=15945.0, close=15974.75, halted=0.0, ticks=[TickData(time=datetime.datetime(2023, 7, 19, 3, 40, 46, 898203, tzinfo=datetime.timezone.utc), tickType=4, price=15959.75, size=4.0), TickData(time=datetime.datetime(2023, 7, 19, 3, 40, 46, 898203, tzinfo=datetime.timezone.utc), tickType=49, price=0.0, size=0), TickData(time=datetime.datetime(2023, 7, 19, 3, 40, 46, 898203, tzinfo=datetime.timezone.utc), tickType=8, price=-1.0, size=15278.0), TickData(time=datetime.datetime(2023, 7, 19, 3, 40, 46, 898203, tzinfo=datetime.timezone.utc), tickType=6, price=15967.75, size=0.0), TickData(time=datetime.datetime(2023, 7, 19, 3, 40, 46, 898203, tzinfo=datetime.timezone.utc), tickType=7, price=15945.0, size=0.0), TickData(time=datetime.datetime(2023, 7, 19, 3, 40, 46, 898203, tzinfo=datetime.timezone.utc), tickType=9, price=15974.75, size=0.0), TickData(time=datetime.datetime(2023, 7, 19, 3, 40, 46, 898203, tzinfo=datetime.timezone.utc), tickType=14, price=15949.25, size=0.0), TickData(time=datetime.datetime(2023, 7, 19, 3, 40, 46, 898203, tzinfo=datetime.timezone.utc), tickType=1, price=15959.75, size=1.0), TickData(time=datetime.datetime(2023, 7, 19, 3, 40, 46, 898203, tzinfo=datetime.timezone.utc), tickType=2, price=15960.0, size=5.0)], bboExchange='50006', snapshotPermissions=3)"
      ]
     },
     "execution_count": 4,
     "metadata": {},
     "output_type": "execute_result"
    }
   ],
   "source": [
    "[ticker] = ib.reqTickers(contract)\n",
    "ticker"
   ]
  },
  {
   "cell_type": "markdown",
   "metadata": {},
   "source": [
    "Take the current market value of the ticker:"
   ]
  },
  {
   "cell_type": "code",
   "execution_count": 5,
   "metadata": {},
   "outputs": [
    {
     "data": {
      "text/plain": [
       "15959.75"
      ]
     },
     "execution_count": 5,
     "metadata": {},
     "output_type": "execute_result"
    }
   ],
   "source": [
    "spxValue = ticker.marketPrice()\n",
    "spxValue"
   ]
  },
  {
   "cell_type": "markdown",
   "metadata": {},
   "source": [
    "The following request fetches a list of option chains:"
   ]
  },
  {
   "cell_type": "code",
   "execution_count": 10,
   "metadata": {},
   "outputs": [
    {
     "data": {
      "text/plain": [
       "[ContractDetails(contract=Contract(secType='FUT', conId=568549928, symbol='NQ', lastTradeDateOrContractMonth='20230915', multiplier='20', exchange='CME', currency='USD', localSymbol='NQU3', tradingClass='NQ'), marketName='NQ', minTick=0.25, orderTypes='ACTIVETIM,AD,ADJUST,ALERT,ALGO,ALLOC,AVGCOST,BASKET,BENCHPX,COND,CONDORDER,DAY,DEACT,DEACTDIS,DEACTEOD,GAT,GTC,GTD,GTT,HID,ICE,IOC,LIT,LMT,LTH,MIT,MKT,MTL,NGCOMB,NONALGO,OCA,PEGBENCH,SCALE,SCALERST,SNAPMID,SNAPMKT,SNAPREL,STP,STPLMT,TRAIL,TRAILLIT,TRAILLMT,TRAILMIT,WHATIF', validExchanges='CME,QBALGO', priceMagnifier=1, underConId=11004958, longName='E-mini NASDAQ 100 ', contractMonth='202309', industry='', category='', subcategory='', timeZoneId='US/Central', tradingHours='20230717:1700-20230718:1600;20230718:1700-20230719:1600;20230719:1700-20230720:1600;20230720:1700-20230721:1600;20230722:CLOSED;20230723:1700-20230724:1600', liquidHours='20230718:0830-20230718:1600;20230719:0830-20230719:1600;20230720:0830-20230720:1600;20230721:0830-20230721:1600;20230722:CLOSED;20230723:1700-20230724:1600', evRule='', evMultiplier=0, mdSizeMultiplier=1, aggGroup=2147483647, underSymbol='NQ', underSecType='IND', marketRuleIds='67,67', secIdList=[], realExpirationDate='20230915', lastTradeTime='08:30:00', stockType='', minSize=1.0, sizeIncrement=1.0, suggestedSizeIncrement=1.0, cusip='', ratings='', descAppend='', bondType='', couponType='', callable=False, putable=False, coupon=0, convertible=False, maturity='', issueDate='', nextOptionDate='', nextOptionType='', nextOptionPartial=False, notes='')]"
      ]
     },
     "execution_count": 10,
     "metadata": {},
     "output_type": "execute_result"
    }
   ],
   "source": [
    "ib.reqContractDetails(contract)"
   ]
  },
  {
   "cell_type": "code",
   "execution_count": 7,
   "metadata": {},
   "outputs": [
    {
     "name": "stderr",
     "output_type": "stream",
     "text": [
      "Error 321, reqId 5: Error validating request.-'cw' : cause - Missing exchange for security type FUT\n"
     ]
    }
   ],
   "source": [
    "chains = ib.reqSecDefOptParams(contract.symbol, '', contract.secType, contract.conId)\n",
    "\n",
    "util.df(chains)"
   ]
  },
  {
   "cell_type": "markdown",
   "metadata": {},
   "source": [
    "These are four option chains that differ in ``exchange`` and ``tradingClass``. The latter is 'SPX' for the monthly and  'SPXW' for the weekly options. Note that the weekly expiries are disjoint from the monthly ones, so when interested in the weekly options the monthly options can be added as well.\n",
    "\n",
    "In this case we're only interested in the monthly options trading on SMART:"
   ]
  },
  {
   "cell_type": "code",
   "execution_count": 7,
   "metadata": {},
   "outputs": [
    {
     "data": {
      "text/plain": [
       "OptionChain(exchange='SMART', underlyingConId='416904', tradingClass='SPX', multiplier='100', expirations=['20230720', '20230817', '20230914', '20231019', '20231116', '20231214', '20240118', '20240215', '20240314', '20240418', '20240516', '20240620', '20240718', '20240919', '20241219', '20250618', '20251218', '20261217', '20271216', '20281214'], strikes=[100.0, 200.0, 300.0, 400.0, 500.0, 600.0, 700.0, 800.0, 900.0, 1000.0, 1100.0, 1200.0, 1300.0, 1400.0, 1500.0, 1600.0, 1700.0, 1750.0, 1800.0, 1850.0, 1900.0, 1950.0, 2000.0, 2050.0, 2100.0, 2150.0, 2200.0, 2250.0, 2300.0, 2350.0, 2400.0, 2450.0, 2500.0, 2525.0, 2550.0, 2575.0, 2600.0, 2625.0, 2650.0, 2675.0, 2700.0, 2725.0, 2750.0, 2775.0, 2800.0, 2825.0, 2850.0, 2875.0, 2900.0, 2925.0, 2950.0, 2975.0, 3000.0, 3025.0, 3050.0, 3075.0, 3100.0, 3125.0, 3150.0, 3175.0, 3200.0, 3225.0, 3250.0, 3275.0, 3280.0, 3290.0, 3300.0, 3310.0, 3320.0, 3325.0, 3330.0, 3340.0, 3350.0, 3360.0, 3370.0, 3375.0, 3380.0, 3390.0, 3400.0, 3410.0, 3420.0, 3425.0, 3430.0, 3440.0, 3450.0, 3460.0, 3470.0, 3475.0, 3480.0, 3490.0, 3500.0, 3510.0, 3520.0, 3525.0, 3530.0, 3540.0, 3550.0, 3560.0, 3570.0, 3575.0, 3580.0, 3590.0, 3600.0, 3610.0, 3620.0, 3625.0, 3630.0, 3635.0, 3640.0, 3645.0, 3650.0, 3655.0, 3660.0, 3665.0, 3670.0, 3675.0, 3680.0, 3685.0, 3690.0, 3695.0, 3700.0, 3705.0, 3710.0, 3715.0, 3720.0, 3725.0, 3730.0, 3735.0, 3740.0, 3745.0, 3750.0, 3755.0, 3760.0, 3765.0, 3770.0, 3775.0, 3780.0, 3785.0, 3790.0, 3795.0, 3800.0, 3805.0, 3810.0, 3815.0, 3820.0, 3825.0, 3830.0, 3835.0, 3840.0, 3845.0, 3850.0, 3855.0, 3860.0, 3865.0, 3870.0, 3875.0, 3880.0, 3885.0, 3890.0, 3895.0, 3900.0, 3905.0, 3910.0, 3915.0, 3920.0, 3925.0, 3930.0, 3935.0, 3940.0, 3945.0, 3950.0, 3955.0, 3960.0, 3965.0, 3970.0, 3975.0, 3980.0, 3985.0, 3990.0, 3995.0, 4000.0, 4005.0, 4010.0, 4015.0, 4020.0, 4025.0, 4030.0, 4035.0, 4040.0, 4045.0, 4050.0, 4055.0, 4060.0, 4065.0, 4070.0, 4075.0, 4080.0, 4085.0, 4090.0, 4095.0, 4100.0, 4105.0, 4110.0, 4115.0, 4120.0, 4125.0, 4130.0, 4135.0, 4140.0, 4145.0, 4150.0, 4155.0, 4160.0, 4165.0, 4170.0, 4175.0, 4180.0, 4185.0, 4190.0, 4195.0, 4200.0, 4205.0, 4210.0, 4215.0, 4220.0, 4225.0, 4230.0, 4235.0, 4240.0, 4245.0, 4250.0, 4255.0, 4260.0, 4265.0, 4270.0, 4275.0, 4280.0, 4285.0, 4290.0, 4295.0, 4300.0, 4305.0, 4310.0, 4315.0, 4320.0, 4325.0, 4330.0, 4335.0, 4340.0, 4345.0, 4350.0, 4355.0, 4360.0, 4365.0, 4370.0, 4375.0, 4380.0, 4385.0, 4390.0, 4395.0, 4400.0, 4405.0, 4410.0, 4415.0, 4420.0, 4425.0, 4430.0, 4435.0, 4440.0, 4445.0, 4450.0, 4455.0, 4460.0, 4465.0, 4470.0, 4475.0, 4480.0, 4485.0, 4490.0, 4495.0, 4500.0, 4505.0, 4510.0, 4515.0, 4520.0, 4525.0, 4530.0, 4535.0, 4540.0, 4545.0, 4550.0, 4555.0, 4560.0, 4565.0, 4570.0, 4575.0, 4580.0, 4585.0, 4590.0, 4595.0, 4600.0, 4605.0, 4610.0, 4615.0, 4620.0, 4625.0, 4630.0, 4635.0, 4640.0, 4645.0, 4650.0, 4655.0, 4660.0, 4665.0, 4670.0, 4675.0, 4680.0, 4685.0, 4690.0, 4695.0, 4700.0, 4705.0, 4710.0, 4715.0, 4720.0, 4725.0, 4730.0, 4740.0, 4750.0, 4760.0, 4770.0, 4775.0, 4780.0, 4790.0, 4800.0, 4810.0, 4820.0, 4825.0, 4830.0, 4840.0, 4850.0, 4860.0, 4870.0, 4875.0, 4880.0, 4890.0, 4900.0, 4925.0, 4950.0, 4975.0, 5000.0, 5025.0, 5050.0, 5075.0, 5100.0, 5125.0, 5150.0, 5200.0, 5250.0, 5300.0, 5350.0, 5400.0, 5450.0, 5500.0, 5600.0, 5700.0, 5800.0, 5900.0, 6000.0, 6100.0, 6200.0, 6300.0, 6400.0, 6500.0, 6600.0, 6700.0, 6800.0, 6900.0, 7000.0, 7100.0, 7200.0, 7300.0, 7400.0, 7600.0, 7800.0, 8000.0, 8200.0, 8400.0, 8600.0, 8800.0, 9000.0, 9200.0, 9600.0, 10000.0, 12000.0])"
      ]
     },
     "execution_count": 7,
     "metadata": {},
     "output_type": "execute_result"
    }
   ],
   "source": [
    "chain = next(c for c in chains if c.tradingClass == 'SPX' and c.exchange == 'SMART')\n",
    "chain"
   ]
  },
  {
   "cell_type": "markdown",
   "metadata": {},
   "source": [
    "What we have here is the full matrix of expirations x strikes. From this we can build all the option contracts that meet our conditions:"
   ]
  },
  {
   "cell_type": "code",
   "execution_count": 8,
   "metadata": {},
   "outputs": [
    {
     "data": {
      "text/plain": [
       "48"
      ]
     },
     "execution_count": 8,
     "metadata": {},
     "output_type": "execute_result"
    }
   ],
   "source": [
    "strikes = [strike for strike in chain.strikes\n",
    "        if strike % 5 == 0\n",
    "        and spxValue - 20 < strike < spxValue + 20]\n",
    "expirations = sorted(exp for exp in chain.expirations)[:3]\n",
    "rights = ['P', 'C']\n",
    "\n",
    "contracts = [Option('SPX', expiration, strike, right, 'SMART', tradingClass='SPX')\n",
    "        for right in rights\n",
    "        for expiration in expirations\n",
    "        for strike in strikes]\n",
    "\n",
    "contracts = ib.qualifyContracts(*contracts)\n",
    "len(contracts)"
   ]
  },
  {
   "cell_type": "code",
   "execution_count": 10,
   "metadata": {},
   "outputs": [
    {
     "data": {
      "text/plain": [
       "Option(conId=611886528, symbol='SPX', lastTradeDateOrContractMonth='20230720', strike=4410.0, right='P', multiplier='100', exchange='SMART', currency='USD', localSymbol='SPX   230721P04410000', tradingClass='SPX')"
      ]
     },
     "execution_count": 10,
     "metadata": {},
     "output_type": "execute_result"
    }
   ],
   "source": [
    "contracts[0]"
   ]
  },
  {
   "cell_type": "markdown",
   "metadata": {},
   "source": [
    "Now to get the market data for all options in one go:"
   ]
  },
  {
   "cell_type": "code",
   "execution_count": 11,
   "metadata": {},
   "outputs": [
    {
     "data": {
      "text/plain": [
       "Ticker(contract=Option(conId=611886528, symbol='SPX', lastTradeDateOrContractMonth='20230720', strike=4410.0, right='P', multiplier='100', exchange='SMART', currency='USD', localSymbol='SPX   230721P04410000', tradingClass='SPX'), time=datetime.datetime(2023, 7, 7, 19, 1, 18, 274862, tzinfo=datetime.timezone.utc), minTick=0.05, bid=25.5, bidSize=225.0, bidExchange='C', ask=25.9, askSize=225.0, askExchange='C', last=24.3, lastSize=20.0, volume=116.0, high=36.85, low=22.8, close=36.15, halted=0.0, bidGreeks=OptionComputation(tickAttrib=0, impliedVol=0.10504980433330299, delta=-0.40226895081485237, optPrice=25.600000381469727, pvDividend=2.113739206668964, gamma=0.00423973046565308, vega=3.361150592543191, theta=-0.9939242989485626, undPrice=4424.78), askGreeks=OptionComputation(tickAttrib=0, impliedVol=0.10626041702911247, delta=-0.4032686807629613, optPrice=26.100000381469727, pvDividend=2.113739206668964, gamma=0.004194093946703964, vega=3.363288680496201, theta=-1.0084836488424833, undPrice=4424.78), lastGreeks=OptionComputation(tickAttrib=0, impliedVol=0.1102216641848977, delta=-0.4063833577301441, optPrice=24.299999237060547, pvDividend=2.113739206668964, gamma=0.004051198177584528, vega=3.369806222289281, theta=-1.0561638566159306, undPrice=4424.78), modelGreeks=OptionComputation(tickAttrib=0, impliedVol=0.10589917510802499, delta=-0.40246797705472925, optPrice=26.775968792057157, pvDividend=2.113739206668964, gamma=0.004206146168540523, vega=3.3616692412137144, theta=-1.0040878563282334, undPrice=4424.900000000001), bboExchange='c70003', snapshotPermissions=3)"
      ]
     },
     "execution_count": 11,
     "metadata": {},
     "output_type": "execute_result"
    }
   ],
   "source": [
    "tickers = ib.reqTickers(*contracts)\n"
   ]
  },
  {
   "cell_type": "code",
   "execution_count": 12,
   "metadata": {},
   "outputs": [
    {
     "data": {
      "text/plain": [
       "Ticker(contract=Option(conId=611886528, symbol='SPX', lastTradeDateOrContractMonth='20230720', strike=4410.0, right='P', multiplier='100', exchange='SMART', currency='USD', localSymbol='SPX   230721P04410000', tradingClass='SPX'), time=datetime.datetime(2023, 7, 7, 19, 1, 18, 274862, tzinfo=datetime.timezone.utc), minTick=0.05, bid=25.5, bidSize=225.0, bidExchange='C', ask=25.9, askSize=225.0, askExchange='C', last=24.3, lastSize=20.0, volume=116.0, high=36.85, low=22.8, close=36.15, halted=0.0, bidGreeks=OptionComputation(tickAttrib=0, impliedVol=0.10504980433330299, delta=-0.40226895081485237, optPrice=25.600000381469727, pvDividend=2.113739206668964, gamma=0.00423973046565308, vega=3.361150592543191, theta=-0.9939242989485626, undPrice=4424.78), askGreeks=OptionComputation(tickAttrib=0, impliedVol=0.10626041702911247, delta=-0.4032686807629613, optPrice=26.100000381469727, pvDividend=2.113739206668964, gamma=0.004194093946703964, vega=3.363288680496201, theta=-1.0084836488424833, undPrice=4424.78), lastGreeks=OptionComputation(tickAttrib=0, impliedVol=0.1102216641848977, delta=-0.4063833577301441, optPrice=24.299999237060547, pvDividend=2.113739206668964, gamma=0.004051198177584528, vega=3.369806222289281, theta=-1.0561638566159306, undPrice=4424.78), modelGreeks=OptionComputation(tickAttrib=0, impliedVol=0.10589917510802499, delta=-0.40246797705472925, optPrice=26.775968792057157, pvDividend=2.113739206668964, gamma=0.004206146168540523, vega=3.3616692412137144, theta=-1.0040878563282334, undPrice=4424.900000000001), bboExchange='c70003', snapshotPermissions=3)"
      ]
     },
     "execution_count": 12,
     "metadata": {},
     "output_type": "execute_result"
    },
    {
     "name": "stderr",
     "output_type": "stream",
     "text": [
      "Peer closed connection.\n"
     ]
    }
   ],
   "source": [
    "\n",
    "tickers[0]"
   ]
  },
  {
   "cell_type": "markdown",
   "metadata": {},
   "source": [
    "The option greeks are available from the ``modelGreeks`` attribute, and if there is a bid, ask resp. last price available also from ``bidGreeks``, ``askGreeks`` and ``lastGreeks``. For streaming ticks the greek values will be kept up to date to the current market situation."
   ]
  },
  {
   "cell_type": "code",
   "execution_count": 11,
   "metadata": {},
   "outputs": [],
   "source": [
    "ib.disconnect()"
   ]
  }
 ],
 "metadata": {
  "kernelspec": {
   "display_name": "Python 3 (ipykernel)",
   "language": "python",
   "name": "python3"
  },
  "language_info": {
   "codemirror_mode": {
    "name": "ipython",
    "version": 3
   },
   "file_extension": ".py",
   "mimetype": "text/x-python",
   "name": "python",
   "nbconvert_exporter": "python",
   "pygments_lexer": "ipython3",
   "version": "3.10.9"
  }
 },
 "nbformat": 4,
 "nbformat_minor": 4
}
