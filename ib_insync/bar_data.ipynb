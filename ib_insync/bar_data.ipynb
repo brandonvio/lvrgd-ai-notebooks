{
 "cells": [
  {
   "cell_type": "markdown",
   "metadata": {},
   "source": [
    "# Bar data"
   ]
  },
  {
   "cell_type": "code",
   "execution_count": 1,
   "metadata": {},
   "outputs": [
    {
     "data": {
      "text/plain": [
       "<IB connected to 20.230.202.72:7497 clientId=50022>"
      ]
     },
     "execution_count": 1,
     "metadata": {},
     "output_type": "execute_result"
    }
   ],
   "source": [
    "from ib_insync import *\n",
    "util.startLoop()\n",
    "\n",
    "ib = IB()\n",
    "ib.connect('20.230.202.72', 7497, clientId=50022)"
   ]
  },
  {
   "cell_type": "markdown",
   "metadata": {},
   "source": [
    "## Historical data"
   ]
  },
  {
   "cell_type": "markdown",
   "metadata": {},
   "source": [
    "To get the earliest date of available bar data the \"head timestamp\" can be requested:"
   ]
  },
  {
   "cell_type": "code",
   "execution_count": 2,
   "metadata": {},
   "outputs": [
    {
     "name": "stdout",
     "output_type": "stream",
     "text": [
      "[Forex('EURUSD', conId=12087792, exchange='IDEALPRO', localSymbol='EUR.USD', tradingClass='EUR.USD')]\n"
     ]
    }
   ],
   "source": [
    "# contract = Stock('TSLA', 'SMART', 'USD')\n",
    "# contract = Future(symbol=\"NQ\", localSymbol=\"NQU3\", exchange=\"CME\")\n",
    "# contract = Future(symbol=\"CL\", localSymbol=\"CLQ3\", exchange=\"NYMEX\")\n",
    "# contract = Future(symbol=\"VXM\", localSymbol=\"VXMN3\", exchange=\"CFE\")\n",
    "contract = Forex('EURUSD')\n",
    "contract = ib.qualifyContracts(contract)\n",
    "print(contract)\n",
    "# ib.reqHeadTimeStamp(contract, whatToShow='TRADES', useRTH=True)"
   ]
  },
  {
   "cell_type": "code",
   "execution_count": 4,
   "metadata": {},
   "outputs": [
    {
     "name": "stdout",
     "output_type": "stream",
     "text": [
      "Option(conId=641396743, symbol='QQQ', lastTradeDateOrContractMonth='20230724', strike=384.0, right='C', multiplier='100', exchange='SMART', currency='USD', localSymbol='QQQ   230724C00384000', tradingClass='QQQ')\n"
     ]
    }
   ],
   "source": [
    "op = Option(\n",
    "            symbol=\"QQQ\",\n",
    "            exchange=\"SMART\",\n",
    "            currency=\"USD\",\n",
    "            right=\"C\",\n",
    "            lastTradeDateOrContractMonth=\"20230724\",\n",
    "            strike=\"384\",\n",
    "            multiplier=100,\n",
    "        )\n",
    "\n",
    "[op] = ib.qualifyContracts(op)\n",
    "print(op)"
   ]
  },
  {
   "cell_type": "code",
   "execution_count": 10,
   "metadata": {},
   "outputs": [
    {
     "name": "stdout",
     "output_type": "stream",
     "text": [
      "[Ticker(contract=Option(conId=641396743, symbol='QQQ', lastTradeDateOrContractMonth='20230724', strike=384.0, right='C', multiplier='100', exchange='SMART', currency='USD', localSymbol='QQQ   230724C00384000', tradingClass='QQQ'), time=datetime.datetime(2023, 7, 19, 19, 42, 38, 4995, tzinfo=datetime.timezone.utc), minTick=0.01, bid=3.99, bidSize=334.0, bidExchange='INQZTHEJP', ask=4.03, askSize=1192.0, askExchange='ACIXNBQZWTHEJP', last=4.07, lastSize=1.0, prevBid=4.0, prevBidSize=262.0, prevAsk=4.04, prevAskSize=1205.0, volume=724.0, high=5.48, low=3.27, close=4.32, halted=0.0, bidGreeks=OptionComputation(tickAttrib=0, impliedVol=0.15785774947368883, delta=0.6166928332529255, optPrice=3.990000009536743, pvDividend=0.0, gamma=0.05364761516009434, vega=0.17085331809572502, theta=-0.3065255316029573, undPrice=385.77), askGreeks=OptionComputation(tickAttrib=0, impliedVol=0.1602009445242762, delta=0.6151579378458818, optPrice=4.03000020980835, pvDividend=0.0, gamma=0.05293603747295739, vega=0.17090089571459544, theta=-0.3108615915511758, undPrice=385.77), lastGreeks=OptionComputation(tickAttrib=0, impliedVol=0.15774692113482786, delta=0.6167665843007304, optPrice=4.070000171661377, pvDividend=0.0, gamma=0.053681734882522036, vega=0.17085101667893987, theta=-0.3063204820502564, undPrice=385.77), modelGreeks=OptionComputation(tickAttrib=0, impliedVol=0.15984533074421606, delta=0.6153879212378495, optPrice=4.021265718908988, pvDividend=0.0, gamma=0.05304283863181325, vega=0.17089380566133006, theta=-0.31020343620442165, undPrice=385.77), bboExchange='c70003', snapshotPermissions=3)]\n"
     ]
    },
    {
     "name": "stderr",
     "output_type": "stream",
     "text": [
      "Peer closed connection.\n"
     ]
    }
   ],
   "source": [
    "ticker = ib.reqTickers(op)\n",
    "print(ticker)"
   ]
  },
  {
   "cell_type": "code",
   "execution_count": 9,
   "metadata": {},
   "outputs": [
    {
     "name": "stdout",
     "output_type": "stream",
     "text": [
      "Ticker(contract=Option(conId=641396743, symbol='QQQ', lastTradeDateOrContractMonth='20230724', strike=384.0, right='C', multiplier='100', exchange='SMART', currency='USD', localSymbol='QQQ   230724C00384000', tradingClass='QQQ'), time=datetime.datetime(2023, 7, 19, 19, 42, 32, 720185, tzinfo=datetime.timezone.utc), minTick=0.01, bid=3.99, bidSize=576.0, bidExchange='INBQZTHEJP', ask=4.03, askSize=906.0, askExchange='AIXNQZWTHEJP', last=4.07, lastSize=1.0, prevBid=4.0, prevBidSize=920.0, prevAsk=4.04, prevAskSize=666.0, volume=724.0, high=5.48, low=3.27, close=4.32, ticks=[TickData(time=datetime.datetime(2023, 7, 19, 19, 42, 32, 720185, tzinfo=datetime.timezone.utc), tickType=0, price=3.99, size=576.0), TickData(time=datetime.datetime(2023, 7, 19, 19, 42, 32, 720185, tzinfo=datetime.timezone.utc), tickType=3, price=4.03, size=906.0)], bidGreeks=OptionComputation(tickAttrib=0, impliedVol=0.15785774947368883, delta=0.6166928332529255, optPrice=3.990000009536743, pvDividend=0.0, gamma=0.05364761516009434, vega=0.17085331809572502, theta=-0.3065255316029573, undPrice=385.77), askGreeks=OptionComputation(tickAttrib=0, impliedVol=0.1602009445242762, delta=0.6151579378458818, optPrice=4.03000020980835, pvDividend=0.0, gamma=0.05293603747295739, vega=0.17090089571459544, theta=-0.3108615915511758, undPrice=385.77), lastGreeks=OptionComputation(tickAttrib=0, impliedVol=0.15774692113482786, delta=0.6167665843007304, optPrice=4.070000171661377, pvDividend=0.0, gamma=0.053681734882522036, vega=0.17085101667893987, theta=-0.3063204820502564, undPrice=385.77), modelGreeks=OptionComputation(tickAttrib=0, impliedVol=0.15984533074421606, delta=0.6153879212378495, optPrice=4.021265718908988, pvDividend=0.0, gamma=0.05304283863181325, vega=0.17089380566133006, theta=-0.31020343620442165, undPrice=385.77), bboExchange='c70003', snapshotPermissions=3)\n"
     ]
    }
   ],
   "source": [
    "ticker = ib.reqMktData(op)\n",
    "print(ticker)"
   ]
  },
  {
   "cell_type": "markdown",
   "metadata": {},
   "source": [
    "To request hourly data of the last 60 trading days:"
   ]
  },
  {
   "cell_type": "code",
   "execution_count": null,
   "metadata": {},
   "outputs": [],
   "source": [
    "bars = ib.reqHistoricalData(\n",
    "        contract,\n",
    "        endDateTime='',\n",
    "        durationStr='1 D',\n",
    "        barSizeSetting='5 secs',\n",
    "        whatToShow='TRADES',\n",
    "        useRTH=False,\n",
    "        formatDate=1)"
   ]
  },
  {
   "cell_type": "code",
   "execution_count": null,
   "metadata": {},
   "outputs": [],
   "source": [
    "bars[0]"
   ]
  },
  {
   "cell_type": "code",
   "execution_count": null,
   "metadata": {},
   "outputs": [],
   "source": [
    "bars[-1]"
   ]
  },
  {
   "cell_type": "markdown",
   "metadata": {},
   "source": [
    "Convert the list of bars to a data frame and print the first and last rows:"
   ]
  },
  {
   "cell_type": "code",
   "execution_count": null,
   "metadata": {},
   "outputs": [],
   "source": [
    "len(bars)"
   ]
  },
  {
   "cell_type": "code",
   "execution_count": null,
   "metadata": {},
   "outputs": [],
   "source": [
    "df = util.df(bars)\n",
    "\n",
    "display(df.head())\n",
    "display(df.tail())"
   ]
  },
  {
   "cell_type": "markdown",
   "metadata": {},
   "source": [
    "Instruct the notebook to draw plot graphics inline:"
   ]
  },
  {
   "cell_type": "code",
   "execution_count": null,
   "metadata": {},
   "outputs": [],
   "source": [
    "%matplotlib inline"
   ]
  },
  {
   "cell_type": "markdown",
   "metadata": {},
   "source": [
    "Plot the close data"
   ]
  },
  {
   "cell_type": "code",
   "execution_count": null,
   "metadata": {},
   "outputs": [],
   "source": [
    "df.plot(y='close');"
   ]
  },
  {
   "cell_type": "markdown",
   "metadata": {},
   "source": [
    "There is also a utility function to plot bars as a candlestick plot. It can accept either a DataFrame or a list of bars. Here it will print the last 100 bars:"
   ]
  },
  {
   "cell_type": "code",
   "execution_count": null,
   "metadata": {
    "scrolled": true
   },
   "outputs": [],
   "source": [
    "util.barplot(bars[-100:], title=contract.symbol);"
   ]
  },
  {
   "cell_type": "markdown",
   "metadata": {},
   "source": [
    "## Historical data with realtime updates\n",
    "\n",
    "A new feature of the API is to get live updates for historical bars. This is done by setting `endDateTime` to an empty string and the `keepUpToDate` parameter to `True`.\n",
    "\n",
    "Let's get some bars with an keepUpToDate subscription:"
   ]
  },
  {
   "cell_type": "code",
   "execution_count": null,
   "metadata": {},
   "outputs": [],
   "source": [
    "contract = Forex('EURUSD')\n",
    "\n",
    "bars = ib.reqHistoricalData(\n",
    "        contract,\n",
    "        endDateTime='',\n",
    "        durationStr='900 S',\n",
    "        barSizeSetting='10 secs',\n",
    "        whatToShow='MIDPOINT',\n",
    "        useRTH=True,\n",
    "        formatDate=1,\n",
    "        keepUpToDate=True)"
   ]
  },
  {
   "cell_type": "markdown",
   "metadata": {},
   "source": [
    "Replot for every change of the last bar:"
   ]
  },
  {
   "cell_type": "code",
   "execution_count": null,
   "metadata": {
    "scrolled": true
   },
   "outputs": [],
   "source": [
    "from IPython.display import display, clear_output\n",
    "import matplotlib.pyplot as plt\n",
    "\n",
    "def onBarUpdate(bars, hasNewBar):\n",
    "    plt.close()\n",
    "    plot = util.barplot(bars)\n",
    "    clear_output(wait=True)\n",
    "    display(plot)\n",
    "\n",
    "bars.updateEvent += onBarUpdate\n",
    "\n",
    "ib.sleep(10)\n",
    "ib.cancelHistoricalData(bars)"
   ]
  },
  {
   "cell_type": "markdown",
   "metadata": {},
   "source": [
    "Realtime bars\n",
    "------------------\n",
    "\n",
    "With ``reqRealTimeBars`` a subscription is started that sends a new bar every 5 seconds.\n",
    "\n",
    "First we'll set up a event handler for bar updates:"
   ]
  },
  {
   "cell_type": "code",
   "execution_count": null,
   "metadata": {},
   "outputs": [],
   "source": [
    "def onBarUpdate(bars, hasNewBar):\n",
    "    print(bars[-1])"
   ]
  },
  {
   "cell_type": "markdown",
   "metadata": {},
   "source": [
    "Then do the real request and connect the event handler,"
   ]
  },
  {
   "cell_type": "code",
   "execution_count": null,
   "metadata": {},
   "outputs": [],
   "source": [
    "contract = Forex(\"EURUSD\")"
   ]
  },
  {
   "cell_type": "code",
   "execution_count": null,
   "metadata": {},
   "outputs": [],
   "source": [
    "bars = ib.reqRealTimeBars(contract, 5, 'MIDPOINT', False)\n",
    "bars.updateEvent += onBarUpdate"
   ]
  },
  {
   "cell_type": "markdown",
   "metadata": {},
   "source": [
    "let it run for half a minute and then cancel the realtime bars."
   ]
  },
  {
   "cell_type": "code",
   "execution_count": null,
   "metadata": {},
   "outputs": [],
   "source": [
    "ib.sleep(30)\n",
    "ib.cancelRealTimeBars(bars)"
   ]
  },
  {
   "cell_type": "markdown",
   "metadata": {},
   "source": [
    "The advantage of reqRealTimeBars is that it behaves more robust when the connection to the IB server farms is interrupted. After the connection is restored, the bars from during the network outage will be backfilled and the live bars will resume.\n",
    "\n",
    "reqHistoricalData + keepUpToDate will, at the moment of writing, leave the whole API inoperable after a network interruption."
   ]
  },
  {
   "cell_type": "code",
   "execution_count": null,
   "metadata": {},
   "outputs": [],
   "source": [
    "ib.disconnect()"
   ]
  },
  {
   "cell_type": "code",
   "execution_count": null,
   "metadata": {},
   "outputs": [],
   "source": []
  }
 ],
 "metadata": {
  "kernelspec": {
   "display_name": "Python 3 (ipykernel)",
   "language": "python",
   "name": "python3"
  },
  "language_info": {
   "codemirror_mode": {
    "name": "ipython",
    "version": 3
   },
   "file_extension": ".py",
   "mimetype": "text/x-python",
   "name": "python",
   "nbconvert_exporter": "python",
   "pygments_lexer": "ipython3",
   "version": "3.10.9"
  }
 },
 "nbformat": 4,
 "nbformat_minor": 4
}
