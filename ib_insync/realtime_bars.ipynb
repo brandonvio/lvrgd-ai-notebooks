{
 "cells": [
  {
   "cell_type": "code",
   "execution_count": 1,
   "id": "6d35edcc-05a6-4151-96a2-184879000612",
   "metadata": {},
   "outputs": [
    {
     "data": {
      "text/plain": [
       "<IB connected to 20.230.202.72:7497 clientId=142112>"
      ]
     },
     "execution_count": 1,
     "metadata": {},
     "output_type": "execute_result"
    }
   ],
   "source": [
    "from ib_insync import *\n",
    "util.startLoop()\n",
    "\n",
    "ib = IB()\n",
    "ib.connect('20.230.202.72', 7497, clientId=142112)"
   ]
  },
  {
   "cell_type": "code",
   "execution_count": 2,
   "id": "63e074b0-4606-4d1e-afe7-442faac3a166",
   "metadata": {},
   "outputs": [],
   "source": [
    "def onBarUpdate(bars, hasNewBar):\n",
    "    print(bars[-1])"
   ]
  },
  {
   "cell_type": "code",
   "execution_count": 3,
   "id": "0f30bacd-db2c-4ca5-9353-c08088f39784",
   "metadata": {},
   "outputs": [],
   "source": [
    "contract = Forex(\"USDJPY\")"
   ]
  },
  {
   "cell_type": "code",
   "execution_count": 4,
   "id": "60795a11-e53b-4b3b-a989-9ddeadcaf70e",
   "metadata": {},
   "outputs": [
    {
     "data": {
      "text/plain": [
       "[Forex('USDJPY', conId=15016059, exchange='IDEALPRO', localSymbol='USD.JPY', tradingClass='USD.JPY')]"
      ]
     },
     "execution_count": 4,
     "metadata": {},
     "output_type": "execute_result"
    }
   ],
   "source": [
    "ib.qualifyContracts(contract)"
   ]
  },
  {
   "cell_type": "code",
   "execution_count": 6,
   "id": "e0211ce5-7a23-4001-9f3e-7e7135f0eb74",
   "metadata": {},
   "outputs": [
    {
     "name": "stdout",
     "output_type": "stream",
     "text": [
      "RealTimeBar(time=datetime.datetime(2023, 7, 4, 17, 13, tzinfo=datetime.timezone.utc), endTime=-1, open_=144.4765, high=144.485, low=144.4765, close=144.484, volume=-1.0, wap=-1.0, count=-1)\n",
      "RealTimeBar(time=datetime.datetime(2023, 7, 4, 17, 13, 5, tzinfo=datetime.timezone.utc), endTime=-1, open_=144.484, high=144.484, low=144.484, close=144.484, volume=-1.0, wap=-1.0, count=-1)\n",
      "RealTimeBar(time=datetime.datetime(2023, 7, 4, 17, 13, 10, tzinfo=datetime.timezone.utc), endTime=-1, open_=144.484, high=144.484, low=144.484, close=144.484, volume=-1.0, wap=-1.0, count=-1)\n",
      "RealTimeBar(time=datetime.datetime(2023, 7, 4, 17, 13, 15, tzinfo=datetime.timezone.utc), endTime=-1, open_=144.484, high=144.484, low=144.484, close=144.484, volume=-1.0, wap=-1.0, count=-1)\n",
      "RealTimeBar(time=datetime.datetime(2023, 7, 4, 17, 13, 20, tzinfo=datetime.timezone.utc), endTime=-1, open_=144.484, high=144.484, low=144.4815, close=144.4835, volume=-1.0, wap=-1.0, count=-1)\n",
      "RealTimeBar(time=datetime.datetime(2023, 7, 4, 17, 13, 25, tzinfo=datetime.timezone.utc), endTime=-1, open_=144.4835, high=144.4835, low=144.4835, close=144.4835, volume=-1.0, wap=-1.0, count=-1)\n",
      "RealTimeBar(time=datetime.datetime(2023, 7, 4, 17, 13, 30, tzinfo=datetime.timezone.utc), endTime=-1, open_=144.4835, high=144.4835, low=144.4835, close=144.4835, volume=-1.0, wap=-1.0, count=-1)\n",
      "RealTimeBar(time=datetime.datetime(2023, 7, 4, 17, 13, 35, tzinfo=datetime.timezone.utc), endTime=-1, open_=144.4835, high=144.4835, low=144.4835, close=144.4835, volume=-1.0, wap=-1.0, count=-1)\n",
      "RealTimeBar(time=datetime.datetime(2023, 7, 4, 17, 13, 40, tzinfo=datetime.timezone.utc), endTime=-1, open_=144.4835, high=144.484, low=144.4835, close=144.484, volume=-1.0, wap=-1.0, count=-1)\n",
      "RealTimeBar(time=datetime.datetime(2023, 7, 4, 17, 13, 45, tzinfo=datetime.timezone.utc), endTime=-1, open_=144.484, high=144.484, low=144.484, close=144.484, volume=-1.0, wap=-1.0, count=-1)\n",
      "RealTimeBar(time=datetime.datetime(2023, 7, 4, 17, 13, 50, tzinfo=datetime.timezone.utc), endTime=-1, open_=144.484, high=144.484, low=144.484, close=144.484, volume=-1.0, wap=-1.0, count=-1)\n",
      "RealTimeBar(time=datetime.datetime(2023, 7, 4, 17, 13, 55, tzinfo=datetime.timezone.utc), endTime=-1, open_=144.484, high=144.484, low=144.484, close=144.484, volume=-1.0, wap=-1.0, count=-1)\n",
      "RealTimeBar(time=datetime.datetime(2023, 7, 4, 17, 14, tzinfo=datetime.timezone.utc), endTime=-1, open_=144.484, high=144.484, low=144.484, close=144.484, volume=-1.0, wap=-1.0, count=-1)\n",
      "RealTimeBar(time=datetime.datetime(2023, 7, 4, 17, 14, 5, tzinfo=datetime.timezone.utc), endTime=-1, open_=144.484, high=144.484, low=144.484, close=144.484, volume=-1.0, wap=-1.0, count=-1)\n",
      "RealTimeBar(time=datetime.datetime(2023, 7, 4, 17, 14, 10, tzinfo=datetime.timezone.utc), endTime=-1, open_=144.484, high=144.484, low=144.484, close=144.484, volume=-1.0, wap=-1.0, count=-1)\n",
      "RealTimeBar(time=datetime.datetime(2023, 7, 4, 17, 14, 15, tzinfo=datetime.timezone.utc), endTime=-1, open_=144.484, high=144.484, low=144.484, close=144.484, volume=-1.0, wap=-1.0, count=-1)\n",
      "RealTimeBar(time=datetime.datetime(2023, 7, 4, 17, 14, 20, tzinfo=datetime.timezone.utc), endTime=-1, open_=144.484, high=144.484, low=144.484, close=144.484, volume=-1.0, wap=-1.0, count=-1)\n",
      "RealTimeBar(time=datetime.datetime(2023, 7, 4, 17, 14, 25, tzinfo=datetime.timezone.utc), endTime=-1, open_=144.484, high=144.486, low=144.484, close=144.486, volume=-1.0, wap=-1.0, count=-1)\n",
      "RealTimeBar(time=datetime.datetime(2023, 7, 4, 17, 14, 30, tzinfo=datetime.timezone.utc), endTime=-1, open_=144.486, high=144.486, low=144.486, close=144.486, volume=-1.0, wap=-1.0, count=-1)\n",
      "RealTimeBar(time=datetime.datetime(2023, 7, 4, 17, 14, 35, tzinfo=datetime.timezone.utc), endTime=-1, open_=144.486, high=144.486, low=144.486, close=144.486, volume=-1.0, wap=-1.0, count=-1)\n",
      "RealTimeBar(time=datetime.datetime(2023, 7, 4, 17, 14, 40, tzinfo=datetime.timezone.utc), endTime=-1, open_=144.486, high=144.486, low=144.486, close=144.486, volume=-1.0, wap=-1.0, count=-1)\n",
      "RealTimeBar(time=datetime.datetime(2023, 7, 4, 17, 14, 45, tzinfo=datetime.timezone.utc), endTime=-1, open_=144.486, high=144.486, low=144.486, close=144.486, volume=-1.0, wap=-1.0, count=-1)\n",
      "RealTimeBar(time=datetime.datetime(2023, 7, 4, 17, 14, 50, tzinfo=datetime.timezone.utc), endTime=-1, open_=144.486, high=144.486, low=144.486, close=144.486, volume=-1.0, wap=-1.0, count=-1)\n",
      "RealTimeBar(time=datetime.datetime(2023, 7, 4, 17, 14, 55, tzinfo=datetime.timezone.utc), endTime=-1, open_=144.486, high=144.486, low=144.486, close=144.486, volume=-1.0, wap=-1.0, count=-1)\n",
      "RealTimeBar(time=datetime.datetime(2023, 7, 4, 17, 15, tzinfo=datetime.timezone.utc), endTime=-1, open_=144.486, high=144.486, low=144.4835, close=144.486, volume=-1.0, wap=-1.0, count=-1)\n",
      "RealTimeBar(time=datetime.datetime(2023, 7, 4, 17, 15, 5, tzinfo=datetime.timezone.utc), endTime=-1, open_=144.486, high=144.486, low=144.486, close=144.486, volume=-1.0, wap=-1.0, count=-1)\n",
      "RealTimeBar(time=datetime.datetime(2023, 7, 4, 17, 15, 10, tzinfo=datetime.timezone.utc), endTime=-1, open_=144.486, high=144.486, low=144.486, close=144.486, volume=-1.0, wap=-1.0, count=-1)\n",
      "RealTimeBar(time=datetime.datetime(2023, 7, 4, 17, 15, 15, tzinfo=datetime.timezone.utc), endTime=-1, open_=144.486, high=144.486, low=144.486, close=144.486, volume=-1.0, wap=-1.0, count=-1)\n",
      "RealTimeBar(time=datetime.datetime(2023, 7, 4, 17, 15, 20, tzinfo=datetime.timezone.utc), endTime=-1, open_=144.486, high=144.486, low=144.486, close=144.486, volume=-1.0, wap=-1.0, count=-1)\n",
      "RealTimeBar(time=datetime.datetime(2023, 7, 4, 17, 15, 25, tzinfo=datetime.timezone.utc), endTime=-1, open_=144.486, high=144.486, low=144.486, close=144.486, volume=-1.0, wap=-1.0, count=-1)\n",
      "RealTimeBar(time=datetime.datetime(2023, 7, 4, 17, 15, 30, tzinfo=datetime.timezone.utc), endTime=-1, open_=144.486, high=144.486, low=144.486, close=144.486, volume=-1.0, wap=-1.0, count=-1)\n",
      "RealTimeBar(time=datetime.datetime(2023, 7, 4, 17, 15, 35, tzinfo=datetime.timezone.utc), endTime=-1, open_=144.486, high=144.486, low=144.486, close=144.486, volume=-1.0, wap=-1.0, count=-1)\n",
      "RealTimeBar(time=datetime.datetime(2023, 7, 4, 17, 15, 40, tzinfo=datetime.timezone.utc), endTime=-1, open_=144.486, high=144.486, low=144.486, close=144.486, volume=-1.0, wap=-1.0, count=-1)\n",
      "RealTimeBar(time=datetime.datetime(2023, 7, 4, 17, 15, 45, tzinfo=datetime.timezone.utc), endTime=-1, open_=144.486, high=144.486, low=144.486, close=144.486, volume=-1.0, wap=-1.0, count=-1)\n",
      "RealTimeBar(time=datetime.datetime(2023, 7, 4, 17, 15, 50, tzinfo=datetime.timezone.utc), endTime=-1, open_=144.486, high=144.486, low=144.486, close=144.486, volume=-1.0, wap=-1.0, count=-1)\n",
      "RealTimeBar(time=datetime.datetime(2023, 7, 4, 17, 15, 55, tzinfo=datetime.timezone.utc), endTime=-1, open_=144.486, high=144.486, low=144.486, close=144.486, volume=-1.0, wap=-1.0, count=-1)\n",
      "RealTimeBar(time=datetime.datetime(2023, 7, 4, 17, 16, tzinfo=datetime.timezone.utc), endTime=-1, open_=144.486, high=144.4905, low=144.484, close=144.4885, volume=-1.0, wap=-1.0, count=-1)\n",
      "RealTimeBar(time=datetime.datetime(2023, 7, 4, 17, 16, 5, tzinfo=datetime.timezone.utc), endTime=-1, open_=144.4885, high=144.4885, low=144.4885, close=144.4885, volume=-1.0, wap=-1.0, count=-1)\n",
      "RealTimeBar(time=datetime.datetime(2023, 7, 4, 17, 16, 10, tzinfo=datetime.timezone.utc), endTime=-1, open_=144.4885, high=144.489, low=144.4885, close=144.4885, volume=-1.0, wap=-1.0, count=-1)\n",
      "RealTimeBar(time=datetime.datetime(2023, 7, 4, 17, 16, 15, tzinfo=datetime.timezone.utc), endTime=-1, open_=144.4885, high=144.4885, low=144.4885, close=144.4885, volume=-1.0, wap=-1.0, count=-1)\n",
      "RealTimeBar(time=datetime.datetime(2023, 7, 4, 17, 16, 20, tzinfo=datetime.timezone.utc), endTime=-1, open_=144.4885, high=144.489, low=144.4885, close=144.489, volume=-1.0, wap=-1.0, count=-1)\n",
      "RealTimeBar(time=datetime.datetime(2023, 7, 4, 17, 16, 25, tzinfo=datetime.timezone.utc), endTime=-1, open_=144.489, high=144.489, low=144.487, close=144.487, volume=-1.0, wap=-1.0, count=-1)\n",
      "RealTimeBar(time=datetime.datetime(2023, 7, 4, 17, 16, 30, tzinfo=datetime.timezone.utc), endTime=-1, open_=144.487, high=144.487, low=144.484, close=144.484, volume=-1.0, wap=-1.0, count=-1)\n"
     ]
    }
   ],
   "source": [
    "bars = ib.reqRealTimeBars(contract, 5, 'MIDPOINT', False)\n",
    "bars.updateEvent += onBarUpdate"
   ]
  },
  {
   "cell_type": "code",
   "execution_count": 7,
   "id": "7eb41d34-2dd7-420e-a3f0-fd74b7a5a9dd",
   "metadata": {},
   "outputs": [
    {
     "name": "stdout",
     "output_type": "stream",
     "text": [
      "RealTimeBar(time=datetime.datetime(2023, 7, 4, 17, 16, 35, tzinfo=datetime.timezone.utc), endTime=-1, open_=144.484, high=144.484, low=144.484, close=144.484, volume=-1.0, wap=-1.0, count=-1)\n"
     ]
    }
   ],
   "source": [
    "ib.cancelRealTimeBars(bars)"
   ]
  },
  {
   "cell_type": "code",
   "execution_count": null,
   "id": "488f86ee-1cce-4010-874a-68780a3489a9",
   "metadata": {},
   "outputs": [],
   "source": []
  }
 ],
 "metadata": {
  "kernelspec": {
   "display_name": "Python 3 (ipykernel)",
   "language": "python",
   "name": "python3"
  },
  "language_info": {
   "codemirror_mode": {
    "name": "ipython",
    "version": 3
   },
   "file_extension": ".py",
   "mimetype": "text/x-python",
   "name": "python",
   "nbconvert_exporter": "python",
   "pygments_lexer": "ipython3",
   "version": "3.10.9"
  }
 },
 "nbformat": 4,
 "nbformat_minor": 5
}
