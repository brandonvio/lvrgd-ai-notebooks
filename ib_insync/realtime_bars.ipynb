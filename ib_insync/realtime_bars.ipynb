{
 "cells": [
  {
   "cell_type": "code",
   "execution_count": 18,
   "id": "6d35edcc-05a6-4151-96a2-184879000612",
   "metadata": {},
   "outputs": [
    {
     "data": {
      "text/plain": [
       "<IB connected to 20.230.202.72:7497 clientId=9900022>"
      ]
     },
     "execution_count": 18,
     "metadata": {},
     "output_type": "execute_result"
    }
   ],
   "source": [
    "from ib_insync import *\n",
    "util.startLoop()\n",
    "\n",
    "ib = IB()\n",
    "ib.connect('20.230.202.72', 7497, clientId=9900022)"
   ]
  },
  {
   "cell_type": "code",
   "execution_count": 19,
   "id": "63e074b0-4606-4d1e-afe7-442faac3a166",
   "metadata": {},
   "outputs": [],
   "source": [
    "def onBarUpdate(bars, hasNewBar):\n",
    "    print(bars[-1])"
   ]
  },
  {
   "cell_type": "code",
   "execution_count": 36,
   "id": "0f30bacd-db2c-4ca5-9353-c08088f39784",
   "metadata": {},
   "outputs": [],
   "source": [
    "# contract = Index(\"SPX\")\n",
    "contract = Crypto('ETH','PAXOS', 'USD')"
   ]
  },
  {
   "cell_type": "code",
   "execution_count": 37,
   "id": "60795a11-e53b-4b3b-a989-9ddeadcaf70e",
   "metadata": {},
   "outputs": [
    {
     "data": {
      "text/plain": [
       "[Crypto(conId=495759171, symbol='ETH', exchange='PAXOS', currency='USD', localSymbol='ETH.USD', tradingClass='ETH')]"
      ]
     },
     "execution_count": 37,
     "metadata": {},
     "output_type": "execute_result"
    },
    {
     "name": "stderr",
     "output_type": "stream",
     "text": [
      "Peer closed connection.\n"
     ]
    }
   ],
   "source": [
    "ib.qualifyContracts(contract)"
   ]
  },
  {
   "cell_type": "code",
   "execution_count": 30,
   "id": "8ea94af1-5b8d-4842-ac76-08ed1c6adaf6",
   "metadata": {},
   "outputs": [],
   "source": [
    "# contract = Stock('TSLA', 'SMART', 'USD')\n",
    "# contract = Future(symbol=\"NQ\", localSymbol=\"NQU3\", exchange=\"CME\")\n",
    "# contract = Future(symbol=\"CL\", localSymbol=\"CLQ3\", exchange=\"NYMEX\")\n",
    "# contract = Future(symbol=\"VXM\", localSymbol=\"VXMN3\", exchange=\"CFE\")\n",
    "# contract = Index('SPX', 'CBOE')\n",
    "# ib.qualifyContracts(spx)\n",
    "# contract = ib.qualifyContracts(contract)\n",
    "# ib.reqHeadTimeStamp(contract, whatToShow='TRADES', useRTH=True)"
   ]
  },
  {
   "cell_type": "code",
   "execution_count": 31,
   "id": "e3e1eb1e-5ccc-4064-b0b5-7eb04dbc3012",
   "metadata": {},
   "outputs": [
    {
     "data": {
      "text/plain": [
       "Crypto(conId=495759171, symbol='ETH', exchange='PAXOS', currency='USD', localSymbol='ETH.USD', tradingClass='ETH')"
      ]
     },
     "execution_count": 31,
     "metadata": {},
     "output_type": "execute_result"
    }
   ],
   "source": [
    "contract"
   ]
  },
  {
   "cell_type": "code",
   "execution_count": 32,
   "id": "e0211ce5-7a23-4001-9f3e-7e7135f0eb74",
   "metadata": {},
   "outputs": [
    {
     "name": "stdout",
     "output_type": "stream",
     "text": [
      "RealTimeBar(time=datetime.datetime(2023, 7, 19, 21, 4, 25, tzinfo=datetime.timezone.utc), endTime=-1, open_=1892.7, high=1892.7, low=1892.7, close=1892.7, volume=0.09199556, wap=1892.7, count=1)\n",
      "RealTimeBar(time=datetime.datetime(2023, 7, 19, 21, 4, 30, tzinfo=datetime.timezone.utc), endTime=-1, open_=1892.5, high=1892.5, low=1892.5, close=1892.5, volume=0.00108322, wap=1892.5, count=1)\n",
      "RealTimeBar(time=datetime.datetime(2023, 7, 19, 21, 4, 35, tzinfo=datetime.timezone.utc), endTime=-1, open_=1892.5, high=1892.5, low=1892.45, close=1892.5, volume=0.06124441, wap=1892.495067051834, count=3)\n",
      "RealTimeBar(time=datetime.datetime(2023, 7, 19, 21, 4, 40, tzinfo=datetime.timezone.utc), endTime=-1, open_=1892.4, high=1892.4, low=1892.4, close=1892.4, volume=0.07456291, wap=1892.4, count=3)\n",
      "RealTimeBar(time=datetime.datetime(2023, 7, 19, 21, 4, 45, tzinfo=datetime.timezone.utc), endTime=-1, open_=1891.75, high=1891.75, low=1891.75, close=1891.75, volume=0.00529937, wap=1891.75, count=1)\n",
      "RealTimeBar(time=datetime.datetime(2023, 7, 19, 21, 4, 50, tzinfo=datetime.timezone.utc), endTime=-1, open_=1891.15, high=1891.15, low=1891.15, close=1891.15, volume=0.01052269, wap=1891.15, count=1)\n",
      "RealTimeBar(time=datetime.datetime(2023, 7, 19, 21, 4, 55, tzinfo=datetime.timezone.utc), endTime=-1, open_=1891.15, high=1891.15, low=1891.15, close=1891.15, volume=0.00605451, wap=1891.15, count=1)\n"
     ]
    }
   ],
   "source": [
    "bars = ib.reqRealTimeBars(contract, 5, 'TRADES', False)\n",
    "bars.updateEvent += onBarUpdate"
   ]
  },
  {
   "cell_type": "code",
   "execution_count": 33,
   "id": "7eb41d34-2dd7-420e-a3f0-fd74b7a5a9dd",
   "metadata": {},
   "outputs": [],
   "source": [
    "ib.cancelRealTimeBars(bars)"
   ]
  },
  {
   "cell_type": "code",
   "execution_count": null,
   "id": "488f86ee-1cce-4010-874a-68780a3489a9",
   "metadata": {},
   "outputs": [],
   "source": []
  }
 ],
 "metadata": {
  "kernelspec": {
   "display_name": "Python 3 (ipykernel)",
   "language": "python",
   "name": "python3"
  },
  "language_info": {
   "codemirror_mode": {
    "name": "ipython",
    "version": 3
   },
   "file_extension": ".py",
   "mimetype": "text/x-python",
   "name": "python",
   "nbconvert_exporter": "python",
   "pygments_lexer": "ipython3",
   "version": "3.10.9"
  }
 },
 "nbformat": 4,
 "nbformat_minor": 5
}
