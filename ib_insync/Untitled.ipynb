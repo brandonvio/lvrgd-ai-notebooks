{
 "cells": [
  {
   "cell_type": "code",
   "execution_count": 16,
   "id": "707ed310-57d1-44e7-a661-0027546086ef",
   "metadata": {},
   "outputs": [],
   "source": [
    "def stripWord(word):\n",
    "    word = [a for a in word if a.isalpha()]\n",
    "    return \"\".join(word)"
   ]
  },
  {
   "cell_type": "code",
   "execution_count": 17,
   "id": "b1906415-8ce5-442d-9dca-9fed742059ec",
   "metadata": {},
   "outputs": [],
   "source": [
    "w = \"SFEF@#@##323232SFSFS\""
   ]
  },
  {
   "cell_type": "code",
   "execution_count": 18,
   "id": "6daaa4d3-6e13-499d-b25a-d4ee3afd4ba5",
   "metadata": {},
   "outputs": [
    {
     "name": "stdout",
     "output_type": "stream",
     "text": [
      "SFEFSFSFS\n"
     ]
    }
   ],
   "source": [
    "print(stripWord(w))"
   ]
  },
  {
   "cell_type": "code",
   "execution_count": null,
   "id": "714e7369-ac13-464a-bc61-995a54994540",
   "metadata": {},
   "outputs": [],
   "source": []
  }
 ],
 "metadata": {
  "kernelspec": {
   "display_name": "Python 3 (ipykernel)",
   "language": "python",
   "name": "python3"
  },
  "language_info": {
   "codemirror_mode": {
    "name": "ipython",
    "version": 3
   },
   "file_extension": ".py",
   "mimetype": "text/x-python",
   "name": "python",
   "nbconvert_exporter": "python",
   "pygments_lexer": "ipython3",
   "version": "3.10.9"
  }
 },
 "nbformat": 4,
 "nbformat_minor": 5
}
