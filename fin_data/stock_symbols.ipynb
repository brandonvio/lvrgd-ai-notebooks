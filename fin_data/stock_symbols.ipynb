{
 "cells": [
  {
   "cell_type": "code",
   "execution_count": 1,
   "id": "48bf8b56-90ba-4f9c-b40d-9f166a2e9b94",
   "metadata": {},
   "outputs": [],
   "source": [
    "import pandas as pd\n",
    "import requests"
   ]
  },
  {
   "cell_type": "code",
   "execution_count": 2,
   "id": "73918b65-a3dd-4ada-9533-c93a8d2ea0f9",
   "metadata": {},
   "outputs": [],
   "source": [
    "df = pd.read_html(requests.get('https://www.slickcharts.com/sp500',\n",
    "                      headers={'User-agent': 'Mozilla/5.0'}).text)[0]\n",
    "df.to_csv('sp.csv',index=False)"
   ]
  },
  {
   "cell_type": "code",
   "execution_count": 3,
   "id": "ad20c0df-b9a0-4756-8d18-5157dcfe4f23",
   "metadata": {},
   "outputs": [],
   "source": [
    "# https://www.slickcharts.com/nasdaq100\n",
    "df = pd.read_html(requests.get('https://www.slickcharts.com/nasdaq100',\n",
    "                      headers={'User-agent': 'Mozilla/5.0'}).text)[0]\n",
    "df.to_csv('nasdaq.csv',index=False)"
   ]
  },
  {
   "cell_type": "code",
   "execution_count": 4,
   "id": "80b262d9-3dbc-4e3c-b410-16fcf9dab9ee",
   "metadata": {},
   "outputs": [],
   "source": [
    "df = pd.read_html(requests.get('https://www.slickcharts.com/dowjones',\n",
    "                      headers={'User-agent': 'Mozilla/5.0'}).text)[0]\n",
    "df.to_csv('dow.csv',index=False)"
   ]
  },
  {
   "cell_type": "code",
   "execution_count": null,
   "id": "8b1b99b6-45bc-461b-be8c-c9de33ec067d",
   "metadata": {},
   "outputs": [],
   "source": []
  }
 ],
 "metadata": {
  "kernelspec": {
   "display_name": "Python 3 (ipykernel)",
   "language": "python",
   "name": "python3"
  },
  "language_info": {
   "codemirror_mode": {
    "name": "ipython",
    "version": 3
   },
   "file_extension": ".py",
   "mimetype": "text/x-python",
   "name": "python",
   "nbconvert_exporter": "python",
   "pygments_lexer": "ipython3",
   "version": "3.10.9"
  }
 },
 "nbformat": 4,
 "nbformat_minor": 5
}
